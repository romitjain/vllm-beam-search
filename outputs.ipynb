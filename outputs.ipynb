{
 "cells": [
  {
   "cell_type": "code",
   "execution_count": null,
   "id": "6c289023-7a4a-4ab8-8dc3-bd3bf8ef2632",
   "metadata": {},
   "outputs": [],
   "source": [
    "import json"
   ]
  },
  {
   "cell_type": "code",
   "execution_count": null,
   "id": "93bc71f3-c393-4c76-842e-1d0b4206082e",
   "metadata": {},
   "outputs": [],
   "source": [
    "data = []\n",
    "\n",
    "with open('output_final.jsonl', 'r') as fp:\n",
    "    for ln in fp.read().split('\\n'):\n",
    "        if not ln:\n",
    "            continue\n",
    "        data.append(json.loads(ln))"
   ]
  },
  {
   "cell_type": "code",
   "execution_count": null,
   "id": "95f981b7-0608-466d-8baa-caee6e5342d4",
   "metadata": {},
   "outputs": [],
   "source": [
    "all_roots = [d[\"root_request_id\"] for d in data]\n",
    "all_roots = set(all_roots)\n",
    "# These are ids of all requests in a batch\n",
    "print(all_roots)"
   ]
  },
  {
   "cell_type": "code",
   "execution_count": null,
   "id": "c2fbd19e-757f-43d0-accb-bfda2b3069f8",
   "metadata": {},
   "outputs": [],
   "source": [
    "# Select any one of them to get all the beam search outputs\n",
    "root_id = '0'\n",
    "all_children = [child for child in data if child[\"root_request_id\"] == root_id]"
   ]
  },
  {
   "cell_type": "code",
   "execution_count": null,
   "id": "1e157206-80cb-447d-b2ae-297efcb43ca3",
   "metadata": {
    "scrolled": true
   },
   "outputs": [],
   "source": [
    "prompt = all_children[0][\"prompt\"]\n",
    "print(prompt)\n",
    "print('\\n\\n')\n",
    "\n",
    "# Print the final 2 children of the beam search tree\n",
    "# 2 is the beam width\n",
    "for child in all_children[-2:]:\n",
    "    print(child[\"text\"][len(prompt):])\n",
    "    print('\\n')\n",
    "    print(child[\"probs\"], len(child[\"probs\"]))\n",
    "    print(\"--------\\n\\n\")"
   ]
  },
  {
   "cell_type": "code",
   "execution_count": null,
   "id": "fbc26181-32d7-459d-9509-7279ee05c773",
   "metadata": {
    "scrolled": true
   },
   "outputs": [],
   "source": [
    "len(all_children)"
   ]
  },
  {
   "cell_type": "code",
   "execution_count": null,
   "id": "3439107e-53fd-4a2f-b269-825c03ed652e",
   "metadata": {},
   "outputs": [],
   "source": []
  }
 ],
 "metadata": {
  "kernelspec": {
   "display_name": "meraki",
   "language": "python",
   "name": "meraki"
  },
  "language_info": {
   "codemirror_mode": {
    "name": "ipython",
    "version": 3
   },
   "file_extension": ".py",
   "mimetype": "text/x-python",
   "name": "python",
   "nbconvert_exporter": "python",
   "pygments_lexer": "ipython3",
   "version": "3.11.9"
  }
 },
 "nbformat": 4,
 "nbformat_minor": 5
}
